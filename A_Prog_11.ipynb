{
 "cells": [
  {
   "cell_type": "code",
   "execution_count": 1,
   "metadata": {},
   "outputs": [
    {
     "name": "stdout",
     "output_type": "stream",
     "text": [
      "enter length of list7\n",
      "enter elements\n",
      "7\n",
      "9\n",
      "3\n",
      "9\n",
      "10\n",
      "11\n",
      "27\n",
      "[7, 3, 11]\n"
     ]
    }
   ],
   "source": [
    "def input_values():\n",
    "    n = int(input(\"enter length of list\"))\n",
    "    l = []\n",
    "    print(\"enter elements\")\n",
    "    for i in range(n):\n",
    "        l.append(int(input()))\n",
    "    return l,n\n",
    "def isprime(n):\n",
    "    for i in range(2,n):\n",
    "        if n%i == 0:\n",
    "            return False\n",
    "    return True\n",
    "def filter_prime(l,n):\n",
    "    ll=[]\n",
    "    for i in l:\n",
    "        if(isprime(i)):\n",
    "            ll.append(i)\n",
    "    return ll\n",
    "l,n=input_values()\n",
    "print(filter_prime(l,n))"
   ]
  },
  {
   "cell_type": "code",
   "execution_count": 4,
   "metadata": {},
   "outputs": [
    {
     "name": "stdout",
     "output_type": "stream",
     "text": [
      "enter length of list9\n",
      "enter elements\n",
      "0\n",
      "0\n",
      "0\n",
      "0\n",
      "4\n",
      "0\n",
      "0\n",
      "0\n",
      "0\n",
      "[0, 1, 2, 3, 4, 3, 2, 1, 0]\n"
     ]
    }
   ],
   "source": [
    "def input_values():\n",
    "    n = int(input(\"enter length of list\"))\n",
    "    l = []\n",
    "    print(\"enter elements\")\n",
    "    for i in range(n):\n",
    "        l.append(int(input()))\n",
    "    return l,n\n",
    "def pop(l,n):\n",
    "    mid = n//2\n",
    "    ele = l[mid]\n",
    "    for i in range(1,mid+1):\n",
    "        l[mid-i] = mid -i\n",
    "        l[mid+i] = mid-i\n",
    "    return l\n",
    "l,n=input_values()\n",
    "print(pop(l,n))"
   ]
  },
  {
   "cell_type": "code",
   "execution_count": 12,
   "metadata": {},
   "outputs": [
    {
     "name": "stdout",
     "output_type": "stream",
     "text": [
      "enter a number6\n",
      "['Loves me', 'Loves me not', 'Loves me', 'Loves me not', 'Loves me', 'LOVES ME NOT']\n"
     ]
    }
   ],
   "source": [
    "def loves_me():\n",
    "    n = int(input(\"enter a number\"))\n",
    "    s = \"Loves me\"\n",
    "    ss = \"Loves me not\"\n",
    "    l=[]\n",
    "    for i in range(1,n):\n",
    "        if i%2 == 0:\n",
    "            l.append(ss)\n",
    "        else:\n",
    "            l.append(s)\n",
    "    if i%2 == 0:\n",
    "        l.append(s.upper())\n",
    "    else:\n",
    "        l.append(ss.upper())  \n",
    "    return l\n",
    "print(loves_me())"
   ]
  },
  {
   "cell_type": "code",
   "execution_count": 22,
   "metadata": {},
   "outputs": [
    {
     "name": "stdout",
     "output_type": "stream",
     "text": [
      "enter length of list3\n",
      "ball in inital cupB\n",
      "enter elements\n",
      "AB\n",
      "CA\n",
      "AB\n",
      "C\n"
     ]
    }
   ],
   "source": [
    "def input_values():\n",
    "    n = int(input(\"enter length of list\"))\n",
    "    s = input(\"ball in inital cup\")\n",
    "    l = []\n",
    "    print(\"enter elements\")\n",
    "    for i in range(n):\n",
    "        l.append(input())\n",
    "    return l,n,s\n",
    "def cup_swapping(l,n,s):\n",
    "    for i in l:\n",
    "        if s in i:\n",
    "            if s == i[0]:\n",
    "                s = i[1]\n",
    "            else:\n",
    "                s = i[0]\n",
    "    return s\n",
    "l,n,s = input_values()\n",
    "print(cup_swapping(l,n,s))"
   ]
  },
  {
   "cell_type": "code",
   "execution_count": null,
   "metadata": {},
   "outputs": [],
   "source": []
  }
 ],
 "metadata": {
  "kernelspec": {
   "display_name": "Python 3",
   "language": "python",
   "name": "python3"
  },
  "language_info": {
   "codemirror_mode": {
    "name": "ipython",
    "version": 3
   },
   "file_extension": ".py",
   "mimetype": "text/x-python",
   "name": "python",
   "nbconvert_exporter": "python",
   "pygments_lexer": "ipython3",
   "version": "3.8.5"
  }
 },
 "nbformat": 4,
 "nbformat_minor": 4
}
