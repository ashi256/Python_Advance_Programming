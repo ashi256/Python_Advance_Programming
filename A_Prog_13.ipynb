{
 "cells": [
  {
   "cell_type": "code",
   "execution_count": 13,
   "metadata": {},
   "outputs": [
    {
     "name": "stdout",
     "output_type": "stream",
     "text": [
      "enter number of elements to enter in list9\n",
      "enter number of elements in list\n",
      "b\n",
      "b\n",
      "l\n",
      "l\n",
      "g\n",
      "n\n",
      "o\n",
      "a\n",
      "w\n",
      "enter a stringballoon\n",
      "['b', 'g', 'w']\n"
     ]
    }
   ],
   "source": [
    "def take_input():\n",
    "    \"\"\"\n",
    "    taking input in the form of list\n",
    "    \"\"\"\n",
    "    n = int(input(\"enter number of elements to enter in list\"))\n",
    "    l =[]\n",
    "    print(\"enter number of elements in list\")\n",
    "    for i in range(n):\n",
    "        l.append(input())\n",
    "    s=input(\"enter a string\")\n",
    "    return l,s\n",
    "def remove_letters(l,s):\n",
    "    i,n=0,len(s)\n",
    "    while i<n:\n",
    "        if s[i] in l:\n",
    "            l.remove(s[i])\n",
    "        i=i+1\n",
    "    return l\n",
    "l,s = take_input()\n",
    "print(remove_letters(l,s))"
   ]
  },
  {
   "cell_type": "code",
   "execution_count": 2,
   "metadata": {},
   "outputs": [
    {
     "name": "stdout",
     "output_type": "stream",
     "text": [
      "enter number9\n",
      "enter number5\n",
      "4\n"
     ]
    }
   ],
   "source": [
    "def my_sub():\n",
    "    a = int(input(\"enter number\"))\n",
    "    b = int(input(\"enter number\"))\n",
    "    while(b!=0):\n",
    "        borrow = (~a)&b\n",
    "        a = a^b\n",
    "        b = borrow << 1\n",
    "    return a\n",
    "print(my_sub())"
   ]
  },
  {
   "cell_type": "code",
   "execution_count": 11,
   "metadata": {},
   "outputs": [
    {
     "name": "stdout",
     "output_type": "stream",
     "text": [
      "\"p30,d2k,p60,d200,p360\"\n",
      "2200\n"
     ]
    }
   ],
   "source": [
    "def add_bill(s):\n",
    "    sum=0\n",
    "    for i in s.split(','):\n",
    "        if ('d' in i) and ('k' in i):\n",
    "            i=i.replace('d','')\n",
    "            i=i.replace('k','')\n",
    "            sum = sum + int(i)*1000\n",
    "        if 'd' in i:\n",
    "            i=i.replace('d','')\n",
    "            sum = sum+int(i)\n",
    "    return sum\n",
    "s = eval(input())\n",
    "print(add_bill(s))"
   ]
  },
  {
   "cell_type": "code",
   "execution_count": null,
   "metadata": {},
   "outputs": [],
   "source": []
  }
 ],
 "metadata": {
  "kernelspec": {
   "display_name": "Python 3",
   "language": "python",
   "name": "python3"
  },
  "language_info": {
   "codemirror_mode": {
    "name": "ipython",
    "version": 3
   },
   "file_extension": ".py",
   "mimetype": "text/x-python",
   "name": "python",
   "nbconvert_exporter": "python",
   "pygments_lexer": "ipython3",
   "version": "3.8.5"
  }
 },
 "nbformat": 4,
 "nbformat_minor": 4
}
