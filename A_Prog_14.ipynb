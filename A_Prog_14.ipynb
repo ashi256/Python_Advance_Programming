{
 "cells": [
  {
   "cell_type": "code",
   "execution_count": 10,
   "metadata": {},
   "outputs": [
    {
     "name": "stdout",
     "output_type": "stream",
     "text": [
      "enter number of elements to enter in list3\n",
      "enter number of elements in list\n",
      "16\n",
      "10\n",
      "8\n",
      "[12.0, 7.5, 14.5]\n"
     ]
    }
   ],
   "source": [
    "#1\n",
    "def take_input():\n",
    "    \"\"\"\n",
    "    taking input in the form of list\n",
    "    \"\"\"\n",
    "    n = int(input(\"enter number of elements to enter in list\"))\n",
    "    l =[]\n",
    "    print(\"enter number of elements in list\")\n",
    "    for i in range(n):\n",
    "        l.append(int(input()))\n",
    "    return n,l\n",
    "def show_the_love(l,n):\n",
    "    \"\"\"\n",
    "    Given a list of numbers, create a function that removes 25% from every\n",
    "number in the list except the smallest number, and adds the total amount\n",
    "removed to the smallest number.\n",
    "    \"\"\"\n",
    "    m,s = min(l),0 \n",
    "    for i in range(n):\n",
    "        if l[i] != m:\n",
    "            removed = ((l[i]*25)/100)\n",
    "            s += removed\n",
    "            l[i] = l[i]-removed\n",
    "        else:\n",
    "            l[i] = l[i]+s\n",
    "    return l\n",
    "n,l = take_input()\n",
    "print(show_the_love(l,n))"
   ]
  },
  {
   "cell_type": "code",
   "execution_count": 35,
   "metadata": {},
   "outputs": [
    {
     "name": "stdout",
     "output_type": "stream",
     "text": [
      "First Wordsharp\n",
      "Second Wordsoap\n",
      "['aps', 'hr', 'o']\n"
     ]
    }
   ],
   "source": [
    "#2\n",
    "def take_input():\n",
    "    \"\"\"\n",
    "    take input in the form of strings\n",
    "    \"\"\"\n",
    "    s1 = input(\"First Word\")\n",
    "    s2 = input(\"Second Word\")\n",
    "    return s1,s2\n",
    "def letters(s1,s2):\n",
    "    l=[]\n",
    "    \n",
    "    \"\"\"\n",
    "    Create a function that takes in two words as input and returns a list of three\n",
    "elements, in the following order:\n",
    "1.Shared letters between two words.\n",
    "2.Letters unique to word 1.\n",
    "3.Letters unique to word 2.\n",
    "Each element should have unique letters, and have each letter be\n",
    "alphabetically sorted.\n",
    "    \"\"\"\n",
    "    \n",
    "    l.append(set(s1).intersection(s2))\n",
    "    l.append(set(s1).difference(s2))\n",
    "    l.append(set(s2).difference(s1))\n",
    "    ll=[]\n",
    "    for i in l:\n",
    "        s=\"\".join(map(str,i))\n",
    "        ll.append(s)\n",
    "    return ll\n",
    "    \n",
    "s1,s2 = take_input()\n",
    "print(letters(s1,s2))"
   ]
  },
  {
   "cell_type": "code",
   "execution_count": 45,
   "metadata": {},
   "outputs": [
    {
     "name": "stdout",
     "output_type": "stream",
     "text": [
      "enter number of elements to enter in list5\n",
      "enter number of elements in list\n",
      "5\n",
      "9\n",
      "8\n",
      "1\n",
      "2\n",
      "[[5, 2], [9, 1], [8, 8]]\n"
     ]
    }
   ],
   "source": [
    "def take_input():\n",
    "    \"\"\"\n",
    "    taking input in the form of list\n",
    "    \"\"\"\n",
    "    n = int(input(\"enter number of elements to enter in list\"))\n",
    "    l =[]\n",
    "    print(\"enter number of elements in list\")\n",
    "    for i in range(n):\n",
    "        l.append(int(input()))\n",
    "    return n,l\n",
    "def pairs(l,n):\n",
    "    \"\"\"\n",
    "    Write a function that pairs the first number in an array with the last, the\n",
    "second number with the second to last, etc.\n",
    "    \"\"\"\n",
    "    i,c =1,0\n",
    "    while(c < n//2):\n",
    "        a,b= l[0],l[-i]\n",
    "        l.remove(a)\n",
    "        l.remove(b)\n",
    "        l.append([a,b])\n",
    "        c=c+1\n",
    "        i=i+1\n",
    "    if(n%2 != 0):\n",
    "        l.append([l[0],l[0]])\n",
    "        l.remove(l[0])\n",
    "    return l\n",
    "n,l = take_input()\n",
    "print(pairs(l,n))"
   ]
  },
  {
   "cell_type": "code",
   "execution_count": 48,
   "metadata": {},
   "outputs": [
    {
     "name": "stdout",
     "output_type": "stream",
     "text": [
      "First Number1234567891234567\n",
      "Second Number123456781234567\n",
      "1358024672469134\n"
     ]
    }
   ],
   "source": [
    "def take_input():\n",
    "    \"\"\"\n",
    "    take input in the form of strings\n",
    "    \"\"\"\n",
    "    s1 = input(\"First Number\")\n",
    "    s2 = input(\"Second Number\")\n",
    "    return s1,s2\n",
    "def add_str_nums(s1,s2):\n",
    "    \"\"\"\n",
    "    Write a function that adds two numbers. The catch, however, is that the\n",
    "    numbers will be strings.\n",
    "    \"\"\"\n",
    "    try:\n",
    "        a = int(s1)\n",
    "        b = int(s2)\n",
    "    except:\n",
    "        return -1\n",
    "    else:\n",
    "        return a+b\n",
    "s1,s2 = take_input()\n",
    "print(add_str_nums(s1,s2))"
   ]
  },
  {
   "cell_type": "code",
   "execution_count": 51,
   "metadata": {},
   "outputs": [],
   "source": [
    "def unmix():\n",
    "    s,i,ss = input('enter a string'),0,''\n",
    "    n = len(s)\n",
    "    while(i<n-1):\n",
    "        ss = ss+s[i+1]+s[i]\n",
    "        i=i+2\n",
    "    return ss"
   ]
  },
  {
   "cell_type": "code",
   "execution_count": 52,
   "metadata": {},
   "outputs": [
    {
     "name": "stdout",
     "output_type": "stream",
     "text": [
      "enter a stringlpaeesh le pemu\n",
      "please help me\n"
     ]
    }
   ],
   "source": [
    "print(unmix())"
   ]
  },
  {
   "cell_type": "code",
   "execution_count": null,
   "metadata": {},
   "outputs": [],
   "source": []
  }
 ],
 "metadata": {
  "kernelspec": {
   "display_name": "Python 3",
   "language": "python",
   "name": "python3"
  },
  "language_info": {
   "codemirror_mode": {
    "name": "ipython",
    "version": 3
   },
   "file_extension": ".py",
   "mimetype": "text/x-python",
   "name": "python",
   "nbconvert_exporter": "python",
   "pygments_lexer": "ipython3",
   "version": "3.8.5"
  }
 },
 "nbformat": 4,
 "nbformat_minor": 4
}
