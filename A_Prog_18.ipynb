{
 "cells": [
  {
   "cell_type": "code",
   "execution_count": 31,
   "metadata": {},
   "outputs": [
    {
     "name": "stdout",
     "output_type": "stream",
     "text": [
      "enter the number of elements ro enter3\n",
      "enter list elements\n",
      "soup ($1.99)\n",
      "apple ($0.20)\n",
      "sandwich ($8.50)\n",
      "[1.99, 0.2, 8.5]\n"
     ]
    }
   ],
   "source": [
    "#5\n",
    "def get_values():\n",
    "    l=[]\n",
    "    n=int(input(\"enter the number of elements ro enter\"))\n",
    "    print(\"enter list elements\")\n",
    "    for i in range(n):\n",
    "        l.append(input())\n",
    "    return l\n",
    "def get_prices(l):\n",
    "    ll=[]\n",
    "    for i in l:\n",
    "        a,b=i.split('$')\n",
    "        a,b = b.split(')')\n",
    "        ll.append(float(a))\n",
    "    return ll\n",
    "l = get_values()\n",
    "print(get_prices(l))"
   ]
  },
  {
   "cell_type": "code",
   "execution_count": 9,
   "metadata": {},
   "outputs": [
    {
     "name": "stdout",
     "output_type": "stream",
     "text": [
      "enter a stringA thing of beauty is a joy forever\n",
      "forever\n"
     ]
    }
   ],
   "source": [
    "def get_values():\n",
    "    s=input(\"enter a string\")\n",
    "    return s\n",
    "def find_longest(s):\n",
    "    m=0\n",
    "    for i in s.split(' '):\n",
    "        if m < len(i):\n",
    "            ss = i\n",
    "    return ss\n",
    "s = get_values()\n",
    "print(find_longest(s))"
   ]
  },
  {
   "cell_type": "code",
   "execution_count": 18,
   "metadata": {},
   "outputs": [
    {
     "name": "stdout",
     "output_type": "stream",
     "text": [
      "enter list elements\n",
      "5\n",
      "5\n",
      "10\n",
      "10\n",
      "25\n",
      "15\n",
      "20\n",
      "20\n",
      "time taken to complete the interview120\n",
      "disqualified\n"
     ]
    }
   ],
   "source": [
    "def get_values():\n",
    "    l=[]\n",
    "    print(\"enter list elements\")\n",
    "    for i in range(8):\n",
    "        l.append(int(input()))\n",
    "    i = int(input(\"time taken to complete the interview\"))\n",
    "    return l,i\n",
    "def interview(l,i):\n",
    "    if (l[0]>5) or (l[1]>5): \n",
    "        return \"disqualified\"\n",
    "    if (l[2]>10) or (l[3]>10): \n",
    "        return \"disqualified\"\n",
    "    if (l[4]>15) or (l[5]>15): \n",
    "        return \"disqualified\"\n",
    "    if (l[6]>20) or (l[7]>20): \n",
    "        return \"disqualified\"\n",
    "    if i>140:\n",
    "        return \"disqualified\"\n",
    "    return \"qualified\"\n",
    "l,i = get_values()\n",
    "print(interview(l,i))"
   ]
  },
  {
   "cell_type": "code",
   "execution_count": 47,
   "metadata": {},
   "outputs": [],
   "source": [
    "def get_values():\n",
    "    l=[]\n",
    "    print(\"enter list elements\")\n",
    "    for i in range(4):\n",
    "        l.append(input())\n",
    "    return l\n",
    "def track_robot(l):\n",
    "    c,ll=0,[]\n",
    "    for i in l:\n",
    "        a,b = i.split(' ')\n",
    "        ll.append(int(b))\n",
    "        print(l)\n",
    "        c=c+1\n",
    "        if(c == 4):\n",
    "            break\n",
    "    return [ll[0]-ll[2],ll[1]-ll[3]]"
   ]
  },
  {
   "cell_type": "code",
   "execution_count": 48,
   "metadata": {},
   "outputs": [
    {
     "name": "stdout",
     "output_type": "stream",
     "text": [
      "enter list elements\n",
      "right 10\n",
      "up 50\n",
      "left 30\n",
      "down 10\n",
      "['right 10', 'up 50', 'left 30', 'down 10']\n",
      "['right 10', 'up 50', 'left 30', 'down 10']\n",
      "['right 10', 'up 50', 'left 30', 'down 10']\n",
      "['right 10', 'up 50', 'left 30', 'down 10']\n",
      "[-20, 40]\n"
     ]
    }
   ],
   "source": [
    "l = get_values()\n",
    "print(track_robot(l))"
   ]
  },
  {
   "cell_type": "code",
   "execution_count": null,
   "metadata": {},
   "outputs": [],
   "source": []
  }
 ],
 "metadata": {
  "kernelspec": {
   "display_name": "Python 3",
   "language": "python",
   "name": "python3"
  },
  "language_info": {
   "codemirror_mode": {
    "name": "ipython",
    "version": 3
   },
   "file_extension": ".py",
   "mimetype": "text/x-python",
   "name": "python",
   "nbconvert_exporter": "python",
   "pygments_lexer": "ipython3",
   "version": "3.8.5"
  }
 },
 "nbformat": 4,
 "nbformat_minor": 4
}
