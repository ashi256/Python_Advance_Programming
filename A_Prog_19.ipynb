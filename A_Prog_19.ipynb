{
 "cells": [
  {
   "cell_type": "code",
   "execution_count": 5,
   "metadata": {},
   "outputs": [
    {
     "name": "stdout",
     "output_type": "stream",
     "text": [
      "enter the list length4\n",
      "value 1c\n",
      "value 2d\n",
      "['c', 'd', 'c', 'd']\n",
      "['c', 'd', 'c', 'd']\n",
      "['c', 'd', 'c', 'd']\n",
      "['c', 'd', 'c', 'd']\n"
     ]
    }
   ],
   "source": [
    "def input_value():\n",
    "    n = int(input('enter the list length'))\n",
    "    a = input('value 1')\n",
    "    b = input('value 2')\n",
    "    return n,a,b\n",
    "def checker_board(n,a,b):\n",
    "    l,ll,c=[],[],1\n",
    "    for i in range(n):\n",
    "        l=[]\n",
    "        for j in range(n):\n",
    "            if(c == 1):\n",
    "                l.append(a)\n",
    "                c=0\n",
    "            elif c==0:\n",
    "                l.append(b)\n",
    "                c=1\n",
    "        ll.append(l)\n",
    "    return ll\n",
    "def print_values(n,l):\n",
    "    for i in range(n):\n",
    "        print(l[i])\n",
    "n,a,b = input_value()\n",
    "l = checker_board(n,a,b)\n",
    "print_values(n,l)"
   ]
  },
  {
   "cell_type": "code",
   "execution_count": 7,
   "metadata": {},
   "outputs": [
    {
     "name": "stdout",
     "output_type": "stream",
     "text": [
      "Enter a stringabcdaaa\n",
      "False\n"
     ]
    }
   ],
   "source": [
    "def input_value():\n",
    "    a = input('Enter a string')\n",
    "    return a\n",
    "def almost_palindrome(s):\n",
    "    n,c = len(s),0\n",
    "    for i in range(n//2):\n",
    "        if s[i] != s[n-i-1]:\n",
    "            c=c+1\n",
    "        if(c>1):\n",
    "            return False\n",
    "    return True\n",
    "s = input_value()\n",
    "print(almost_palindrome(s))"
   ]
  },
  {
   "cell_type": "code",
   "execution_count": 10,
   "metadata": {},
   "outputs": [
    {
     "name": "stdout",
     "output_type": "stream",
     "text": [
      "enter a number20\n",
      "8\n"
     ]
    }
   ],
   "source": [
    "def input_values():\n",
    "    n = int(input(\"enter a number\"))\n",
    "    return n\n",
    "def prime_number(n):\n",
    "    if(n==1 or n==0):\n",
    "        return False\n",
    "   \n",
    "  #Run a loop from 2 to n/2\n",
    "    for i in range(2,(n//2)+1):\n",
    "        #if the number is divisible by i, then n is not a prime number.\n",
    "        if(n%i==0):\n",
    "            return 0\n",
    "\n",
    "      #otherwise, n is prime number.\n",
    "    return 1\n",
    "n,s = input_values(),0\n",
    "for i in range(1,n):\n",
    "    s = s + prime_number(i)\n",
    "print(s)"
   ]
  },
  {
   "cell_type": "code",
   "execution_count": 27,
   "metadata": {},
   "outputs": [
    {
     "name": "stdout",
     "output_type": "stream",
     "text": [
      "enter length of list2\n",
      "Adrian M\n",
      "Harriet S\n",
      "Arti Amaz\n",
      "Sdaa Hameer\n",
      "False\n"
     ]
    }
   ],
   "source": [
    "def input_values():\n",
    "    m = int(input(\"enter length of list\"))\n",
    "    l,ll=[],[]\n",
    "    for i in range(m):\n",
    "        l.append(input())\n",
    "    for i in range(m):\n",
    "        ll.append(input())    \n",
    "    return l,ll,m\n",
    "def correct(l,ll,m):\n",
    "    c=0\n",
    "    for i in range(m):\n",
    "        a,b = ll[i].split(' ')\n",
    "        if (a[0] != l[i][0][0]) or (b[0] != l[i][0][0]):\n",
    "            return False\n",
    "    return True\n",
    "l,ll,m = input_values()\n",
    "print(correct(l,ll,m))"
   ]
  },
  {
   "cell_type": "code",
   "execution_count": null,
   "metadata": {},
   "outputs": [],
   "source": []
  },
  {
   "cell_type": "code",
   "execution_count": null,
   "metadata": {},
   "outputs": [],
   "source": []
  }
 ],
 "metadata": {
  "kernelspec": {
   "display_name": "Python 3",
   "language": "python",
   "name": "python3"
  },
  "language_info": {
   "codemirror_mode": {
    "name": "ipython",
    "version": 3
   },
   "file_extension": ".py",
   "mimetype": "text/x-python",
   "name": "python",
   "nbconvert_exporter": "python",
   "pygments_lexer": "ipython3",
   "version": "3.8.5"
  }
 },
 "nbformat": 4,
 "nbformat_minor": 4
}
