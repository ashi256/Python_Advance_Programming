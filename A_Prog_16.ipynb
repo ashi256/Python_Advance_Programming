{
 "cells": [
  {
   "cell_type": "code",
   "execution_count": 33,
   "metadata": {},
   "outputs": [
    {
     "name": "stdout",
     "output_type": "stream",
     "text": [
      "enter 2 sentances\n",
      "hello bro\n",
      "helo\n",
      "bro helo\n",
      "o eo\n",
      "0\n"
     ]
    }
   ],
   "source": [
    "#5\n",
    "def take_input():\n",
    "    print(\"enter 2 sentances\")\n",
    "    s1,s2 = input(),input()\n",
    "    return s1,s2\n",
    "def does_rhythm(s1,s2):\n",
    "    w1 = s1.split(\" \")[-1]\n",
    "    w2 = s2.split(\" \")[-1]\n",
    "    print(w1,w2)\n",
    "    v1,v2='',''\n",
    "    for i in w1:\n",
    "        if i in ['a','e','i','o','u','A','E','I','O','U']:\n",
    "            v1+=i\n",
    "    for i in w2:\n",
    "        if i in ['a','e','i','o','u','A','E','I','O','U']:\n",
    "            v2+=i \n",
    "    print(v1,v2)\n",
    "    if(v1 == v2):\n",
    "        return 1\n",
    "    return 0\n",
    "s1,s2 = take_input()\n",
    "print(does_rhythm(s1,s2))"
   ]
  },
  {
   "cell_type": "code",
   "execution_count": 3,
   "metadata": {},
   "outputs": [
    {
     "name": "stdout",
     "output_type": "stream",
     "text": [
      "enter a stringACAC\n",
      "True\n"
     ]
    }
   ],
   "source": [
    "#1\n",
    "def vaild_rondo():\n",
    "    s = input(\"enter a string\")\n",
    "    for i in range(0,len(s)-1):\n",
    "        if s[i] == s[i+1]:\n",
    "            return False\n",
    "    if s[len(s)-1] == s[len(s)-2]:\n",
    "        return False\n",
    "    return True\n",
    "print(vaild_rondo())"
   ]
  },
  {
   "cell_type": "code",
   "execution_count": 9,
   "metadata": {},
   "outputs": [
    {
     "name": "stdout",
     "output_type": "stream",
     "text": [
      "enter a stringI have a cat. I have a mat. Things are going swell\n",
      "enter a stringhave\n",
      "I have a cat\n"
     ]
    }
   ],
   "source": [
    "#2\n",
    "def input_values():\n",
    "    t = input(\"enter a string\")\n",
    "    s = input('enter a string')\n",
    "    return t,s\n",
    "def sentences_search(t,s):\n",
    "    for i in t.split('.'):\n",
    "        if s in i:\n",
    "            return i\n",
    "    return \"\"\n",
    "t,s=input_values()\n",
    "print(sentences_search(t,s))"
   ]
  },
  {
   "cell_type": "code",
   "execution_count": 3,
   "metadata": {},
   "outputs": [
    {
     "name": "stdout",
     "output_type": "stream",
     "text": [
      "enter a number5\n",
      "[[1, 2, 3, 4], [2, 4, 6, 8], [3, 6, 9, 12], [4, 8, 12, 16]]\n"
     ]
    }
   ],
   "source": [
    "#4\n",
    "def multiplication_table():\n",
    "    n,l,ll = int(input(\"enter a number\")),[],[]\n",
    "    for i in range(1,n):\n",
    "        l=[]\n",
    "        for j in range(1,n):\n",
    "            l.append(i*j)\n",
    "        ll.append(l)\n",
    "    return ll\n",
    "print(multiplication_table())"
   ]
  },
  {
   "cell_type": "code",
   "execution_count": null,
   "metadata": {},
   "outputs": [],
   "source": []
  }
 ],
 "metadata": {
  "kernelspec": {
   "display_name": "Python 3",
   "language": "python",
   "name": "python3"
  },
  "language_info": {
   "codemirror_mode": {
    "name": "ipython",
    "version": 3
   },
   "file_extension": ".py",
   "mimetype": "text/x-python",
   "name": "python",
   "nbconvert_exporter": "python",
   "pygments_lexer": "ipython3",
   "version": "3.8.5"
  }
 },
 "nbformat": 4,
 "nbformat_minor": 4
}
